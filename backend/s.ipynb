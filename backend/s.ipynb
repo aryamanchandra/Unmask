{
 "cells": [
  {
   "cell_type": "code",
   "execution_count": 9,
   "metadata": {},
   "outputs": [],
   "source": [
    "import tensorflow as tf\n",
    "from tensorflow.keras.applications.mobilenet_v2 import preprocess_input\n",
    "from tensorflow.keras.preprocessing.image import img_to_array\n",
    "import numpy as np\n",
    "import cv2\n",
    "import os"
   ]
  },
  {
   "cell_type": "code",
   "execution_count": 5,
   "metadata": {},
   "outputs": [],
   "source": [
    "model = tf.keras.models.load_model(\"mask.h5\")"
   ]
  },
  {
   "cell_type": "code",
   "execution_count": 7,
   "metadata": {},
   "outputs": [],
   "source": [
    "def load_and_preprocess_image(image_path):\n",
    "    # Load the image using OpenCV\n",
    "    image = cv2.imread(image_path)\n",
    "    \n",
    "    # Resize the image to the input size expected by the model (224x224 for MobileNetV2)\n",
    "    image = cv2.resize(image, (224, 224))\n",
    "    \n",
    "    # Convert the image to RGB (if it's not already)\n",
    "    image = cv2.cvtColor(image, cv2.COLOR_BGR2RGB)\n",
    "    \n",
    "    # Convert the image to a NumPy array\n",
    "    image = img_to_array(image)\n",
    "    \n",
    "    # Expand the dimensions to match the model's input shape (add batch dimension)\n",
    "    image = np.expand_dims(image, axis=0)\n",
    "    \n",
    "    # Preprocess the image (normalize pixel values and scale to the range [-1, 1])\n",
    "    image = preprocess_input(image)\n",
    "    \n",
    "    return image"
   ]
  },
  {
   "cell_type": "code",
   "execution_count": 10,
   "metadata": {},
   "outputs": [
    {
     "name": "stdout",
     "output_type": "stream",
     "text": [
      "1/1 [==============================] - 2s 2s/step\n",
      "Predicted Label: Mask\n",
      "Confidence: 97.92%\n"
     ]
    }
   ],
   "source": [
    "image_path = \"image.jpg\"\n",
    "\n",
    "# Load and preprocess the image\n",
    "input_image = load_and_preprocess_image(image_path)\n",
    "\n",
    "# Perform prediction\n",
    "predictions = model.predict(input_image)\n",
    "\n",
    "# Interpret the prediction\n",
    "(mask, withoutMask) = predictions[0]\n",
    "label = \"Mask\" if mask > withoutMask else \"No Mask\"\n",
    "confidence = max(mask, withoutMask) * 100\n",
    "\n",
    "# Print the prediction result\n",
    "print(f\"Predicted Label: {label}\")\n",
    "print(f\"Confidence: {confidence:.2f}%\")"
   ]
  }
 ],
 "metadata": {
  "kernelspec": {
   "display_name": "unmask",
   "language": "python",
   "name": "python3"
  },
  "language_info": {
   "codemirror_mode": {
    "name": "ipython",
    "version": 3
   },
   "file_extension": ".py",
   "mimetype": "text/x-python",
   "name": "python",
   "nbconvert_exporter": "python",
   "pygments_lexer": "ipython3",
   "version": "3.11.0"
  },
  "orig_nbformat": 4
 },
 "nbformat": 4,
 "nbformat_minor": 2
}
